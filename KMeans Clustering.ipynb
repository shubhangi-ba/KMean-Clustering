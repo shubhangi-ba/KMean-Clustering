{
 "cells": [
  {
   "cell_type": "markdown",
   "id": "supported-invention",
   "metadata": {},
   "source": [
    "## Objective\n",
    "The main objective of the program demonstrate one of Unsupervised Machine Learning techniques called Clustering. We will be using Kmeans Algorithm to demonstrate clustering technique and will try to predict the optimum number of clusters in a given dataset."
   ]
  },
  {
   "cell_type": "markdown",
   "id": "respiratory-charm",
   "metadata": {},
   "source": [
    "## Clustering\n",
    "<p>Clustering is one of the most common exploratory data analysis technique used to get an intuition about the structure of the data. It can be defined as the task of identifying subgroups in the data such that data points in the same subgroup (cluster) are very similar while data points in different clusters are very different. In other words, we try to find homogeneous subgroups within the data such that data points in each cluster are as similar as possible according to a similarity measure such as euclidean-based distance or correlation-based distance. The decision of which similarity measure to use is application-specific.</p>\n",
    "<p>Clustering is considered an unsupervised learning method since we don’t have the ground truth to compare the output of the clustering algorithm to the true labels to evaluate its performance. We only want to try to investigate the structure of the data by grouping the data points into distinct subgroups.</p>\n",
    "<p>Clustering is used in market segmentation; where we try to find customers that are similar to each other whether in terms of behaviors or attributes, image segmentation/compression; where we try to group similar regions together, document clustering based on topics, etc.</p>"
   ]
  },
  {
   "cell_type": "markdown",
   "id": "passing-strategy",
   "metadata": {},
   "source": [
    "## KMeans Algorithm\n",
    "<p>Kmeans algorithm is an iterative algorithm that tries to partition the dataset into Kpre-defined distinct non-overlapping subgroups (clusters) where each data point belongs to only one group. It tries to make the intra-cluster data points as similar as possible while also keeping the clusters as different (far) as possible. It assigns data points to a cluster such that the sum of the squared distance between the data points and the cluster’s centroid (arithmetic mean of all the data points that belong to that cluster) is at the minimum. The less variation we have within clusters, the more homogeneous (similar) the data points are within the same cluster.</p>\n",
    "<p>The way kmeans algorithm works is as follows:</p>\n",
    "<ul>\n",
    "    <li>Specify number of clusters K.</li>\n",
    "    <li>Initialize centroids by first shuffling the dataset and then randomly selecting K data points for the centroids without replacement.</li>\n",
    "    <li>Keep iterating until there is no change to the centroids. i.e assignment of data points to clusters isn’t changing.</li>\n",
    "    <li>Compute the sum of the squared distance between data points and all centroids.</li>\n",
    "    <li>Assign each data point to the closest cluster (centroid).</li>\n",
    "    <li>Compute the centroids for the clusters by taking the average of the all data points that belong to each cluster.</li>\n",
    "</ul>\n",
    "<h4>Libraries Used to Implement the Objective</h4>\n",
    "<ul>\n",
    "    <li><b>SKLearn: </b>Scikit-learn is probably the most useful library for machine learning in Python. The sklearn library contains a lot of efficient tools for machine learning and statistical modeling including classification, regression, clustering and dimensionality reduction.</li>\n",
    "    <li><b>Numpy: </b>NumPy is a Python library used for working with arrays. It also has functions for working in domain of linear algebra, fourier transform, and matrices. NumPy was created in 2005 by Travis Oliphant. It is an open source project and you can use it freely. NumPy stands for Numerical Python.</li>\n",
    "    <li><b>Pandas: </b>Pandas is the most popular python library that is used for data analysis. It provides highly optimized performance with back-end source code is purely written in C or Python. We can analyze data in pandas with: Series.</li>\n",
    "    <li><b>Matplotlib: </b>matplotlib. pyplot is a collection of command style functions that make matplotlib work like MATLAB. Each pyplot function makes some change to a figure: e.g., creates a figure, creates a plotting area in a figure, plots some lines in a plotting area, decorates the plot with labels, etc.</li>\n",
    "</ul>"
   ]
  },
  {
   "cell_type": "code",
   "execution_count": 2,
   "id": "killing-wichita",
   "metadata": {},
   "outputs": [],
   "source": [
    "# Importing all of the required libraries\n",
    "import numpy as np\n",
    "import pandas as pd\n",
    "import matplotlib.pyplot as plt\n",
    "from sklearn import datasets\n",
    "%matplotlib inline"
   ]
  },
  {
   "cell_type": "code",
   "execution_count": 3,
   "id": "passive-aberdeen",
   "metadata": {},
   "outputs": [
    {
     "name": "stdout",
     "output_type": "stream",
     "text": [
      "Data imported successfully.\n"
     ]
    },
    {
     "data": {
      "text/html": [
       "<div>\n",
       "<style scoped>\n",
       "    .dataframe tbody tr th:only-of-type {\n",
       "        vertical-align: middle;\n",
       "    }\n",
       "\n",
       "    .dataframe tbody tr th {\n",
       "        vertical-align: top;\n",
       "    }\n",
       "\n",
       "    .dataframe thead th {\n",
       "        text-align: right;\n",
       "    }\n",
       "</style>\n",
       "<table border=\"1\" class=\"dataframe\">\n",
       "  <thead>\n",
       "    <tr style=\"text-align: right;\">\n",
       "      <th></th>\n",
       "      <th>sepal length (cm)</th>\n",
       "      <th>sepal width (cm)</th>\n",
       "      <th>petal length (cm)</th>\n",
       "      <th>petal width (cm)</th>\n",
       "    </tr>\n",
       "  </thead>\n",
       "  <tbody>\n",
       "    <tr>\n",
       "      <th>0</th>\n",
       "      <td>5.1</td>\n",
       "      <td>3.5</td>\n",
       "      <td>1.4</td>\n",
       "      <td>0.2</td>\n",
       "    </tr>\n",
       "    <tr>\n",
       "      <th>1</th>\n",
       "      <td>4.9</td>\n",
       "      <td>3.0</td>\n",
       "      <td>1.4</td>\n",
       "      <td>0.2</td>\n",
       "    </tr>\n",
       "    <tr>\n",
       "      <th>2</th>\n",
       "      <td>4.7</td>\n",
       "      <td>3.2</td>\n",
       "      <td>1.3</td>\n",
       "      <td>0.2</td>\n",
       "    </tr>\n",
       "    <tr>\n",
       "      <th>3</th>\n",
       "      <td>4.6</td>\n",
       "      <td>3.1</td>\n",
       "      <td>1.5</td>\n",
       "      <td>0.2</td>\n",
       "    </tr>\n",
       "    <tr>\n",
       "      <th>4</th>\n",
       "      <td>5.0</td>\n",
       "      <td>3.6</td>\n",
       "      <td>1.4</td>\n",
       "      <td>0.2</td>\n",
       "    </tr>\n",
       "    <tr>\n",
       "      <th>5</th>\n",
       "      <td>5.4</td>\n",
       "      <td>3.9</td>\n",
       "      <td>1.7</td>\n",
       "      <td>0.4</td>\n",
       "    </tr>\n",
       "    <tr>\n",
       "      <th>6</th>\n",
       "      <td>4.6</td>\n",
       "      <td>3.4</td>\n",
       "      <td>1.4</td>\n",
       "      <td>0.3</td>\n",
       "    </tr>\n",
       "    <tr>\n",
       "      <th>7</th>\n",
       "      <td>5.0</td>\n",
       "      <td>3.4</td>\n",
       "      <td>1.5</td>\n",
       "      <td>0.2</td>\n",
       "    </tr>\n",
       "    <tr>\n",
       "      <th>8</th>\n",
       "      <td>4.4</td>\n",
       "      <td>2.9</td>\n",
       "      <td>1.4</td>\n",
       "      <td>0.2</td>\n",
       "    </tr>\n",
       "    <tr>\n",
       "      <th>9</th>\n",
       "      <td>4.9</td>\n",
       "      <td>3.1</td>\n",
       "      <td>1.5</td>\n",
       "      <td>0.1</td>\n",
       "    </tr>\n",
       "  </tbody>\n",
       "</table>\n",
       "</div>"
      ],
      "text/plain": [
       "   sepal length (cm)  sepal width (cm)  petal length (cm)  petal width (cm)\n",
       "0                5.1               3.5                1.4               0.2\n",
       "1                4.9               3.0                1.4               0.2\n",
       "2                4.7               3.2                1.3               0.2\n",
       "3                4.6               3.1                1.5               0.2\n",
       "4                5.0               3.6                1.4               0.2\n",
       "5                5.4               3.9                1.7               0.4\n",
       "6                4.6               3.4                1.4               0.3\n",
       "7                5.0               3.4                1.5               0.2\n",
       "8                4.4               2.9                1.4               0.2\n",
       "9                4.9               3.1                1.5               0.1"
      ]
     },
     "execution_count": 3,
     "metadata": {},
     "output_type": "execute_result"
    }
   ],
   "source": [
    "# Load the iris dataset\n",
    "dataset = datasets.load_iris()\n",
    "iris_dataset = pd.DataFrame(dataset.data, columns = dataset.feature_names)\n",
    "print(\"Data imported successfully.\")\n",
    "iris_dataset.head(10)"
   ]
  },
  {
   "cell_type": "markdown",
   "id": "worth-china",
   "metadata": {},
   "source": [
    "#### Next, we have to find the value of K i.e. the optimum number of clusters for KMeans Algorithm and we are going to use the Elbow Method to find that."
   ]
  },
  {
   "cell_type": "markdown",
   "id": "neither-samba",
   "metadata": {},
   "source": [
    "## Elbow Method\n",
    "<p>Elbow method gives us an idea on what a good k number of clusters would be based on the sum of squared distance (SSE) between data points and their assigned clusters’ centroids. We pick k at the spot where SSE starts to flatten out and forming an elbow. We’ll use the geyser dataset and evaluate SSE for different values of k and see where the curve might form an elbow and flatten out.</p>"
   ]
  },
  {
   "cell_type": "code",
   "execution_count": 4,
   "id": "rubber-activation",
   "metadata": {},
   "outputs": [
    {
     "data": {
      "image/png": "[encoded data removed]",
      "text/plain": [
       "<Figure size 432x288 with 1 Axes>"
      ]
     },
     "metadata": {
      "needs_background": "light"
     },
     "output_type": "display_data"
    }
   ],
   "source": [
    "## find the value to K using the elbow method\n",
    "iris_data_rows = iris_dataset.iloc[:, [0, 1, 2, 3]].values\n",
    "\n",
    "from sklearn.cluster import KMeans\n",
    "sse = []\n",
    "\n",
    "for k in range(1, 10):\n",
    "    kmeans = KMeans(n_clusters = k, init = 'k-means++', random_state = 0)\n",
    "    kmeans.fit(iris_data_rows)\n",
    "    sse.append(kmeans.inertia_)\n",
    "\n",
    "## plot the result on a line graph to observer the elbow and decide the value of k\n",
    "plt.plot(range(1, 10), sse)\n",
    "plt.title('Elbow Method')\n",
    "plt.xlabel('Number Of Clusters')\n",
    "plt.ylabel('Within Cluster Sum Of Squares (WCSS)')\n",
    "plt.show()"
   ]
  },
  {
   "cell_type": "markdown",
   "id": "valid-livestock",
   "metadata": {},
   "source": [
    "#### From the above graph we can conclude that K=3 is not a bad choice."
   ]
  },
  {
   "cell_type": "markdown",
   "id": "upper-prime",
   "metadata": {},
   "source": [
    "<h4>Code Explanation</h4>\n",
    "<p><a href=\"https://scikit-learn.org/stable/modules/generated/sklearn.cluster.KMeans.html\" target=\"_blank\">class sklearn.cluster.KMeans Documentation</a></p>\n",
    "<ul>\n",
    "    <li><b>iris_data_rows = iris_dataset.iloc[:, [0, 1, 2, 3]].values: </b>Get the data rows from the iris dataset available at first four index.</li>\n",
    "    <li>\n",
    "        <b>kmeans = KMeans(n_clusters = k, init = 'k-means++', random_state = 0): </b>\n",
    "        Here we are creating an object of class sklearn.cluster.KMeans which is used to perform KMeans Clustering.\n",
    "        <ol>\n",
    "            <li><b>n_clusters = k: </b>The number of clusters to form as well as the number of centroids to generate.</li>\n",
    "            <li><b>init = 'k-means++': </b>Method for initialization: ‘k-means++’ : selects initial cluster centers for k-mean clustering in a smart way to speed up convergence. See section Notes in k_init for more details.</li>\n",
    "            <li><b>random_state = 0: </b>Determines random number generation for centroid initialization.</li>\n",
    "        </ol>\n",
    "    </li>\n",
    "    <li><b>kmeans.fit(iris_data_rows): </b>Here, we are computing the KMeans Clusturing for the available iris data rows.</li>\n",
    "    <li><b>sse.append(kmeans.inertia_): </b>Here, we are storing the computed sum of squared distances of samples to their closest cluster center to an array/list.</li>\n",
    "</ul>"
   ]
  },
  {
   "cell_type": "code",
   "execution_count": 5,
   "id": "coated-basketball",
   "metadata": {},
   "outputs": [
    {
     "data": {
      "image/png": "[encoded data removed]",
      "text/plain": [
       "<Figure size 432x288 with 1 Axes>"
      ]
     },
     "metadata": {
      "needs_background": "light"
     },
     "output_type": "display_data"
    }
   ],
   "source": [
    "## applying k=3 to the iris dataset and creating kmeans classifier\n",
    "kmeans = KMeans(n_clusters = 3, init = 'k-means++', random_state = 0)\n",
    "classifications = kmeans.fit_predict(iris_data_rows) ## Compute cluster centers and predict cluster index for each sample.\n",
    "\n",
    "## visualizing the clusters\n",
    "plt.scatter(iris_data_rows[classifications == 0, 0], iris_data_rows[classifications == 0, 1], s = 100, c = 'green', label = 'Setosa')\n",
    "plt.scatter(iris_data_rows[classifications == 1, 0], iris_data_rows[classifications == 1, 1], s = 100, c = 'blue', label = 'Versicolour')\n",
    "plt.scatter(iris_data_rows[classifications == 2, 0], iris_data_rows[classifications == 2, 1], s = 100, c = 'chocolate', label = 'Virginica')\n",
    "\n",
    "## plotting the centroids of the clusters\n",
    "plt.scatter(kmeans.cluster_centers_[:, 0], kmeans.cluster_centers_[:, 1], s = 100, c = 'red', label = 'Centroids')\n",
    "\n",
    "## showing the graph with legend\n",
    "plt.legend(loc = 'lower right')\n",
    "plt.show()"
   ]
  },
  {
   "cell_type": "markdown",
   "id": "remarkable-occupation",
   "metadata": {},
   "source": [
    "<p><b>This concludes the objective.</b></p>"
   ]
  },
  {
   "cell_type": "markdown",
   "id": "female-milwaukee",
   "metadata": {},
   "source": [
    "<h4><b>Author:</b> Shubhangi</h4>"
   ]
  }
 ],
 "metadata": {
  "kernelspec": {
   "display_name": "Python 3",
   "language": "python",
   "name": "python3"
  },
  "language_info": {
   "codemirror_mode": {
    "name": "ipython",
    "version": 3
   },
   "file_extension": ".py",
   "mimetype": "text/x-python",
   "name": "python",
   "nbconvert_exporter": "python",
   "pygments_lexer": "ipython3",
   "version": "3.9.1"
  }
 },
 "nbformat": 4,
 "nbformat_minor": 5
}
